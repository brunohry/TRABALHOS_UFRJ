{
 "cells": [
  {
   "cell_type": "markdown",
   "metadata": {},
   "source": [
    "# Tabalho de I.A - UFRJ - 2019.1\n",
    "\n",
    "Bruno Hryniewicz dos Santos Cruz  - DRE - 115150099"
   ]
  },
  {
   "cell_type": "markdown",
   "metadata": {},
   "source": [
    "# Imports"
   ]
  },
  {
   "cell_type": "code",
   "execution_count": 1,
   "metadata": {
    "ExecuteTime": {
     "end_time": "2019-06-24T21:16:28.257744Z",
     "start_time": "2019-06-24T21:16:26.464785Z"
    }
   },
   "outputs": [],
   "source": [
    "import pandas as pd\n",
    "from sklearn.model_selection import train_test_split\n",
    "import random\n",
    "import numpy as np\n",
    "import scipy.linalg as linalg\n",
    "import math"
   ]
  },
  {
   "cell_type": "markdown",
   "metadata": {},
   "source": [
    "# Iris Plants Database \n",
    "(https://archive.ics.uci.edu/ml/machine-learning-databases/iris/)"
   ]
  },
  {
   "cell_type": "markdown",
   "metadata": {},
   "source": [
    "## Importando o Dataframe"
   ]
  },
  {
   "cell_type": "code",
   "execution_count": 2,
   "metadata": {
    "ExecuteTime": {
     "end_time": "2019-06-24T21:16:29.364270Z",
     "start_time": "2019-06-24T21:16:29.356264Z"
    }
   },
   "outputs": [],
   "source": [
    "df =pd.read_csv(\"irisDataset.txt\",  names = [\"1\", \"2\", \"3\", \"4\", \"Class\"])"
   ]
  },
  {
   "cell_type": "markdown",
   "metadata": {},
   "source": [
    "## Separando modelo de treino e teste"
   ]
  },
  {
   "cell_type": "code",
   "execution_count": 3,
   "metadata": {
    "ExecuteTime": {
     "end_time": "2019-06-24T21:16:30.087050Z",
     "start_time": "2019-06-24T21:16:30.082042Z"
    }
   },
   "outputs": [],
   "source": [
    "train, test = train_test_split(df, test_size=0.2)"
   ]
  },
  {
   "cell_type": "code",
   "execution_count": 4,
   "metadata": {
    "ExecuteTime": {
     "end_time": "2019-06-24T21:16:30.438890Z",
     "start_time": "2019-06-24T21:16:30.432893Z"
    }
   },
   "outputs": [
    {
     "name": "stdout",
     "output_type": "stream",
     "text": [
      "Treino tem 120 linhas\n",
      "Teste tem 30 linhas\n"
     ]
    }
   ],
   "source": [
    "print(\"Treino tem\", train.shape[0], \"linhas\")\n",
    "print(\"Teste tem\", test.shape[0], \"linhas\")"
   ]
  },
  {
   "cell_type": "markdown",
   "metadata": {
    "ExecuteTime": {
     "end_time": "2019-06-23T18:41:14.657478Z",
     "start_time": "2019-06-23T18:41:14.643487Z"
    }
   },
   "source": [
    "## Precepton\n",
    "Como é um problema de 3 classes primeiro irei ajustar a reta entre ser da classe 1 ou não, depois quem não for da classe 1, irei ajustar a reta que divide entre classe 2 e 3."
   ]
  },
  {
   "cell_type": "markdown",
   "metadata": {},
   "source": [
    "### Inicialização de Array de pesos"
   ]
  },
  {
   "cell_type": "code",
   "execution_count": 5,
   "metadata": {
    "ExecuteTime": {
     "end_time": "2019-06-24T21:16:31.522753Z",
     "start_time": "2019-06-24T21:16:31.517755Z"
    }
   },
   "outputs": [],
   "source": [
    "# definindo pesos iniciais para primeira rodada do precepton\n",
    "w1 = np.array([random.randint(1,100),random.randint(1,100),random.randint(1,100),random.randint(1,100)], dtype = float)\n",
    "\n",
    "\n",
    "# definindo pesos iniciais para segunda rodada do precepton\n",
    "w2 = np.array([random.randint(1,100),random.randint(1,100),random.randint(1,100),random.randint(1,100)], dtype = float)\n"
   ]
  },
  {
   "cell_type": "markdown",
   "metadata": {
    "ExecuteTime": {
     "end_time": "2019-06-23T22:10:24.144098Z",
     "start_time": "2019-06-23T22:10:24.140110Z"
    }
   },
   "source": [
    "### Preditor\n",
    "Definindo o funcionamento do preditor antes de ajustar as retas para que possa usar ele no criterio de parada na segunda reta (visto que ja foi verificado que não é linermente separavel)."
   ]
  },
  {
   "cell_type": "code",
   "execution_count": 6,
   "metadata": {
    "ExecuteTime": {
     "end_time": "2019-06-24T21:16:32.372224Z",
     "start_time": "2019-06-24T21:16:32.367225Z"
    }
   },
   "outputs": [],
   "source": [
    "def preditor(entrada, w1, w2):\n",
    "    h1 = 0\n",
    "    for j in range(4):\n",
    "        h1 += entrada[j] * w1[j]\n",
    "    h1 = h1- 100\n",
    "    if h1 > 0:\n",
    "        return \"Iris-setosa\"\n",
    "    else:\n",
    "        h = 0\n",
    "        for j in range(4):\n",
    "            h += entrada[j] * w2[j]\n",
    "        h = h- 100\n",
    "        if h > 0 :\n",
    "            return \"Iris-virginica\"\n",
    "        else: \n",
    "            return \"Iris-versicolor\""
   ]
  },
  {
   "cell_type": "markdown",
   "metadata": {},
   "source": [
    "### Teste\n",
    "Para cada valor no meu conjunto de teste verifico a resposta do preditor, se for igual ao esperado boto 1 no vetor respostas, se não boto 0, a minha precisão será a media desse vetor."
   ]
  },
  {
   "cell_type": "code",
   "execution_count": 7,
   "metadata": {
    "ExecuteTime": {
     "end_time": "2019-06-24T21:16:33.229644Z",
     "start_time": "2019-06-24T21:16:33.224646Z"
    }
   },
   "outputs": [],
   "source": [
    "def teste(w1, w2, test_set):\n",
    "    respostas = []\n",
    "    for item in test_set:\n",
    "        if preditor(item[0:4],w1,w2) == item[4]:\n",
    "            respostas.append(1)\n",
    "        else:\n",
    "            respostas.append(0)\n",
    "    respostas = np.array(respostas) \n",
    "    return respostas.mean()"
   ]
  },
  {
   "cell_type": "markdown",
   "metadata": {},
   "source": [
    "### Classificando entre Iris-setosa ou não Iris-setosa\n",
    "\n",
    "Conjuntos lineramente separaveis, pois o precepton termina.\n"
   ]
  },
  {
   "cell_type": "code",
   "execution_count": 8,
   "metadata": {
    "ExecuteTime": {
     "end_time": "2019-06-24T21:16:33.980235Z",
     "start_time": "2019-06-24T21:16:33.969232Z"
    }
   },
   "outputs": [
    {
     "name": "stdout",
     "output_type": "stream",
     "text": [
      "pesos iniciais fase 1 =  [50. 77. 41. 95.]\n",
      "pesos finais fase 1 =  [5.329070518200751e-15 69.19999999999999 -54.599999999999994\n",
      " 59.59999999999996]\n"
     ]
    }
   ],
   "source": [
    "# definindo pesos iniciais para primeira rodada do precepton\n",
    "w_temp1 = np.array([random.randint(1,100),random.randint(1,100),random.randint(1,100),random.randint(1,100)], dtype = float)\n",
    "\n",
    "\n",
    "def fase1 (w1, itens):\n",
    "    print(\"pesos iniciais fase 1 = \", w1)\n",
    "    i=0\n",
    "    flag = True\n",
    "    while (i < len(itens)):\n",
    "        h = 0\n",
    "        item = itens[i]\n",
    "        classe = 0\n",
    "        predict = 0\n",
    "\n",
    "        # definindo classe com 1 se é da classe alvo e -1 se não é\n",
    "        if item[4] == \"Iris-setosa\":\n",
    "            classe = 1\n",
    "        else:\n",
    "            classe = -1\n",
    "\n",
    "        # fazendo somatorido de Xn*Wn\n",
    "        for j in range(4):\n",
    "            h += item[j] * w1[j]\n",
    "\n",
    "        # descontando threshwolder arbitrariamente definido como 100\n",
    "        h = h - 100\n",
    "\n",
    "        # retirando a classe dada pela predição\n",
    "        if h > 0:\n",
    "            predict = 1\n",
    "        else:\n",
    "            predict = -1\n",
    "\n",
    "        # Ajustando vetor de pesos\n",
    "        # se a classe for igual a predição classe - predict = 0 e não modifica o vetor\n",
    "        # se não classe - predict = +-1 dependendo da direção do erro.\n",
    "        w1 = w1 + (classe - predict) * item[0:4]\n",
    "\n",
    "        # reiniciando loop caso tenha ajustado os pesos\n",
    "        if (classe - predict) != 0:\n",
    "            i = 0 \n",
    "            continue\n",
    "        # incremento de loop\n",
    "        i+= 1\n",
    "    print(\"pesos finais fase 1 = \", w1)\n",
    "    return w1\n",
    "w_fase1 = fase1(w_temp1, train.values)\n"
   ]
  },
  {
   "cell_type": "markdown",
   "metadata": {
    "ExecuteTime": {
     "end_time": "2019-06-23T21:40:22.625344Z",
     "start_time": "2019-06-23T21:40:22.611353Z"
    }
   },
   "source": [
    "### Classificando quem não é Iris-setosa em Iris-virginica ou Iris-versicolor\n",
    "\n",
    "Aparetemente os conjuntos não são lineramente independentes, primeiro utilizei da estatégia de parada mais simpres possivel (limitei o numero de iterações) poré os resultados variavam de treino para treino. \n",
    "\n",
    "Então resolvi elaborar mais minha estratégia de parada, dessa vez guardando o melhor resultado. Assim, cheguei a precisão de quase 97%.\n",
    "\n",
    "Porem rodando mais algumas vezes, percebi que essa precisão se altera dependendo do conjunto de treino e teste que seleciono aleatoriamente.\n",
    "\n",
    "Então caso não chege numa precisão boa o suficiente tente rodar novamento o split dos testes e então treinar novamente.\n",
    "\n",
    "Outo fator determinante é que como começo com pesos aleatóios a cada vez que treino, como defino uma quantidade de iteraçoes até a parada, terei modelos diferente a cada treinamento no mesmo conjunto, visto que os ajustes de retas diferentes levam tempos diferentes.\n"
   ]
  },
  {
   "cell_type": "code",
   "execution_count": 9,
   "metadata": {
    "ExecuteTime": {
     "end_time": "2019-06-24T21:16:36.170700Z",
     "start_time": "2019-06-24T21:16:35.054355Z"
    }
   },
   "outputs": [
    {
     "name": "stdout",
     "output_type": "stream",
     "text": [
      "pesos iniciais fase 2 =  [91. 58.  9. 87.]\n",
      "pesos finais fase 2 =  [-55.99999999999934 84.59999999999492 -108.20000000000415\n",
      " 423.80000000001246]\n"
     ]
    }
   ],
   "source": [
    "# definindo pesos iniciais para segunda rodada do precepton\n",
    "w_temp2 = np.array([random.randint(1,100),random.randint(1,100),random.randint(1,100),random.randint(1,100)], dtype = float)\n",
    "\n",
    "def fase2(w1, w2, itens, test_set):\n",
    "    print(\"pesos iniciais fase 2 = \", w2)\n",
    "    i=0\n",
    "    flag = True\n",
    "    stop =0\n",
    "    maior_teste = 0\n",
    "    melhor_w = []\n",
    "\n",
    "    while (i < len(itens)):\n",
    "        h = 0\n",
    "        item = itens[i]\n",
    "        classe = 0\n",
    "        predict = 0\n",
    "        h1 = 0\n",
    "        # Verificando se o objeto pretence a classe Iris-setosa que ja foi classificada\n",
    "        # Se pertence pula para o próximo\n",
    "        for j in range(4):\n",
    "            h1 += item[j] * w1[j]\n",
    "        h1 = h1- 100\n",
    "\n",
    "        if ( h1 > 0):\n",
    "            i+=1\n",
    "            continue\n",
    "\n",
    "        # definindo classe com 1 se é da classe alvo e -1 se não é    \n",
    "        if item[4] == \"Iris-virginica\":\n",
    "            classe = 1\n",
    "        else:\n",
    "            classe = -1\n",
    "            \n",
    "        # fazendo somatorido de Xn*Wn\n",
    "        for j in range(4):\n",
    "            h += item[j] * w2[j]\n",
    "        # descontando threshwolder arbitrariamente definido como 100\n",
    "        h = h - 100\n",
    "\n",
    "        # retirando a classe dada pela predição\n",
    "        if h > 0:\n",
    "            predict = 1\n",
    "        else:\n",
    "            predict = -1\n",
    "\n",
    "        # Ajustando vetor de pesos\n",
    "        # se a classe for igual a predição classe - predict = 0 e não modifica o vetor\n",
    "        # se não classe - predict = +-1 dependendo da direção do erro.\n",
    "        w2 = w2 + (classe - predict) * item[0:4]\n",
    "\n",
    "        # reiniciando loop caso tenha ajustado os pesos\n",
    "        if (classe - predict) != 0:\n",
    "            i = 0 \n",
    "            continue\n",
    "        # verificando a precisão da predição atual\n",
    "        t = teste(w1, w2, test_set )\n",
    "        # trocando melhor prediçao caso seja mais precisa\n",
    "        if t > maior_teste:\n",
    "            maior_teste = t\n",
    "            melhor_w = w2\n",
    "        # incementando condição de parada para conjunto não lineramente separavel     \n",
    "        stop += 1\n",
    "\n",
    "        #condição de parada para conjunto não lineramente separavel\n",
    "        if stop > 10000:\n",
    "            break\n",
    "\n",
    "        # incremento de loop\n",
    "        i+= 1\n",
    "        #redefinindo melhor predição\n",
    "    print(\"pesos finais fase 2 = \", melhor_w)\n",
    "    return melhor_w\n",
    "\n",
    "w_fase2 = fase2(w_fase1,w_temp2,train.values, test.values)\n"
   ]
  },
  {
   "cell_type": "code",
   "execution_count": 10,
   "metadata": {
    "ExecuteTime": {
     "end_time": "2019-06-24T21:16:37.115911Z",
     "start_time": "2019-06-24T21:16:37.111923Z"
    }
   },
   "outputs": [
    {
     "name": "stdout",
     "output_type": "stream",
     "text": [
      "Minha precisão é de: 86.66666666666667 %\n"
     ]
    }
   ],
   "source": [
    "print (\"Minha precisão é de:\",teste(w_fase1, w_fase2, test.values ) *100 , \"%\")"
   ]
  },
  {
   "cell_type": "markdown",
   "metadata": {},
   "source": [
    "### Fixando as aleatoriedades do modelo para ter um modelo treinado.\n"
   ]
  },
  {
   "cell_type": "code",
   "execution_count": 11,
   "metadata": {
    "ExecuteTime": {
     "end_time": "2019-06-24T21:16:39.271869Z",
     "start_time": "2019-06-24T21:16:39.268871Z"
    }
   },
   "outputs": [],
   "source": [
    "#salvando os conjuntos de teste e de treino\n",
    "# train.to_csv(\"iris_traing.csv\")\n",
    "# test.to_csv(\"iris_test.csv\")"
   ]
  },
  {
   "cell_type": "code",
   "execution_count": 12,
   "metadata": {
    "ExecuteTime": {
     "end_time": "2019-06-24T21:16:40.925819Z",
     "start_time": "2019-06-24T21:16:39.782484Z"
    }
   },
   "outputs": [
    {
     "name": "stdout",
     "output_type": "stream",
     "text": [
      "pesos iniciais fase 1 =  [52. 35. 55. 29.]\n",
      "pesos finais fase 1 =  [15.00000000000001 45.800000000000004 -35.19999999999999 4.000000000000011]\n",
      "pesos iniciais fase 2 =  [ 71.  27.  37. 100.]\n",
      "pesos finais fase 2 =  [-87.00000000000034 -37.59999999999994 98.7999999999999 175.59999999999883]\n",
      "Minha precisão é de: 100.0 %\n"
     ]
    }
   ],
   "source": [
    "# inicializando os vetores de pesos com pesos onde em teste anteriores deram um bom modelo preditivo\n",
    "# o peso w1 sempre dará um bom modelo preditivo pois ele separa dosi conjuntos lineramente separaveis\n",
    "# ja o peso 2 como foi explicado anteriormente, seu valor influencia na precisão\n",
    "w1_inicial_modelo = np.array([52., 35., 55., 29.], dtype = float)\n",
    "w2_inicial_modelo = np.array([ 71.,  27.,  37., 100.], dtype = float)\n",
    "\n",
    "# carregando conjuntos de treino e teste\n",
    "\n",
    "treino_modelo = pd.read_csv(\"iris_traing.csv\", index_col = 0)\n",
    "teste_modelo = pd.read_csv(\"iris_test.csv\", index_col = 0)\n",
    "\n",
    "w1_modelo = fase1(w1_inicial_modelo, treino_modelo.values)\n",
    "\n",
    "w2_modelo = fase2(w1_modelo, w2_inicial_modelo, treino_modelo.values, teste_modelo.values)\n",
    "print (\"Minha precisão é de:\",teste(w1_modelo, w2_modelo, teste_modelo.values ) *100 , \"%\")\n",
    "\n"
   ]
  },
  {
   "cell_type": "markdown",
   "metadata": {},
   "source": [
    "# Discrimination in Salaries \n",
    "(http://data.princeton.edu/wws509/datasets/#salary)"
   ]
  },
  {
   "cell_type": "code",
   "execution_count": 13,
   "metadata": {
    "ExecuteTime": {
     "end_time": "2019-06-24T21:16:41.648526Z",
     "start_time": "2019-06-24T21:16:41.645537Z"
    }
   },
   "outputs": [],
   "source": [
    "texto = []\n",
    "f = open(\"DiscriminationInSalariesDataset.txt\" )\n",
    "for line in f:    \n",
    "    texto.append(line.split())\n",
    "f.close()"
   ]
  },
  {
   "cell_type": "code",
   "execution_count": 14,
   "metadata": {
    "ExecuteTime": {
     "end_time": "2019-06-24T21:16:42.073039Z",
     "start_time": "2019-06-24T21:16:42.067038Z"
    }
   },
   "outputs": [],
   "source": [
    "df2 = pd.DataFrame(texto[1:], columns = texto[0] )"
   ]
  },
  {
   "cell_type": "code",
   "execution_count": 15,
   "metadata": {
    "ExecuteTime": {
     "end_time": "2019-06-24T21:16:42.473145Z",
     "start_time": "2019-06-24T21:16:42.461152Z"
    }
   },
   "outputs": [],
   "source": [
    "# train2_randon, test2_randon = train_test_split(df2, test_size=0.2)\n",
    "# train2_randon.to_csv(\"salaries_traing.csv\")\n",
    "# test2_randon.to_csv(\"salaries_test.csv\")\n",
    "\n",
    "train2 = pd.read_csv(\"salaries_traing.csv\", index_col = 0)\n",
    "test2 = pd.read_csv(\"salaries_test.csv\", index_col = 0)"
   ]
  },
  {
   "cell_type": "markdown",
   "metadata": {},
   "source": [
    "## Divisão de conjunto de teste e de Treino"
   ]
  },
  {
   "cell_type": "code",
   "execution_count": 16,
   "metadata": {
    "ExecuteTime": {
     "end_time": "2019-06-24T21:16:43.426192Z",
     "start_time": "2019-06-24T21:16:43.421195Z"
    }
   },
   "outputs": [
    {
     "name": "stdout",
     "output_type": "stream",
     "text": [
      "Treino tem 41 linhas\n",
      "Teste tem 11 linhas\n"
     ]
    }
   ],
   "source": [
    "print(\"Treino tem\", train2.shape[0], \"linhas\")\n",
    "print(\"Teste tem\", test2.shape[0], \"linhas\")"
   ]
  },
  {
   "cell_type": "markdown",
   "metadata": {},
   "source": [
    "## traduzindo stiirngs para valores"
   ]
  },
  {
   "cell_type": "code",
   "execution_count": 17,
   "metadata": {
    "ExecuteTime": {
     "end_time": "2019-06-24T21:16:44.757518Z",
     "start_time": "2019-06-24T21:16:44.752521Z"
    }
   },
   "outputs": [],
   "source": [
    "def traduz_sx(x):\n",
    "    if x == \"male\": \n",
    "        return 1\n",
    "    else:\n",
    "        return 2\n",
    "    \n",
    "def traduz_rk(x):\n",
    "    if(x ==\"full\"):\n",
    "        return 1\n",
    "    elif (x == \"associate\"):\n",
    "        return 2\n",
    "    else:\n",
    "        return 3\n",
    "\n",
    "def traduz_dg(x):\n",
    "    if (x == \"doctorate\"):\n",
    "        return 1\n",
    "    else:\n",
    "        return 2\n"
   ]
  },
  {
   "cell_type": "markdown",
   "metadata": {},
   "source": [
    "## Regressão linear\n",
    "Utilizarei a regressão linear para tentar prever os slários."
   ]
  },
  {
   "cell_type": "markdown",
   "metadata": {},
   "source": [
    "### Considerando sexo como valor relevante na predição"
   ]
  },
  {
   "cell_type": "code",
   "execution_count": 18,
   "metadata": {
    "ExecuteTime": {
     "end_time": "2019-06-24T21:16:46.331630Z",
     "start_time": "2019-06-24T21:16:46.325649Z"
    }
   },
   "outputs": [],
   "source": [
    "X = []\n",
    "y = []\n",
    "\n",
    "for pessoa in train2.values:\n",
    "    aux = np.transpose([traduz_sx(pessoa[0]),traduz_rk(pessoa[1]), int(pessoa[2]), traduz_dg(pessoa[3]), int(pessoa[4])])\n",
    "    X.append(aux)\n",
    "    y.append(int(pessoa[5]))\n",
    "\n",
    "pseudo_inv = linalg.pinv(np.array(X))    \n",
    "linear_regression= pseudo_inv.dot(np.transpose(np.array([y])))\n",
    "\n",
    "\n"
   ]
  },
  {
   "cell_type": "code",
   "execution_count": 19,
   "metadata": {
    "ExecuteTime": {
     "end_time": "2019-06-24T21:16:46.842337Z",
     "start_time": "2019-06-24T21:16:46.837338Z"
    }
   },
   "outputs": [],
   "source": [
    "def predict(x):\n",
    "    aux = [traduz_sx(x[0]),traduz_rk(x[1]), int(x[2]), traduz_dg(x[3]), int(x[4])]\n",
    "    resp = 0\n",
    "    for i in range(5):\n",
    "        resp += aux[i] * linear_regression[i][0]\n",
    "    return resp"
   ]
  },
  {
   "cell_type": "code",
   "execution_count": 20,
   "metadata": {
    "ExecuteTime": {
     "end_time": "2019-06-24T21:16:47.259527Z",
     "start_time": "2019-06-24T21:16:47.253530Z"
    }
   },
   "outputs": [
    {
     "name": "stdout",
     "output_type": "stream",
     "text": [
      "Salário real: 24742 Salário predito: 26661.620092620637\n",
      "Salário real: 25748 Salário predito: 21486.647093123305\n",
      "Salário real: 25400 Salário predito: 17516.92040114977\n",
      "Salário real: 35350 Salário predito: 24994.71719150052\n",
      "Salário real: 28200 Salário predito: 21082.697573726527\n",
      "Salário real: 25500 Salário predito: 25410.042391733805\n",
      "Salário real: 15000 Salário predito: 19175.962280179505\n",
      "Salário real: 31850 Salário predito: 30269.17027909387\n",
      "Salário real: 20690 Salário predito: 29425.49320953648\n",
      "Salário real: 16500 Salário predito: 12188.711351289547\n",
      "Salário real: 24832 Salário predito: 19921.667326836377\n",
      "Erro quadratico médio:  34620734.91459581\n",
      "Raiz do erro quadratico médio: 5883.938724578615\n"
     ]
    }
   ],
   "source": [
    "erro = 0\n",
    "for i in test2.values:\n",
    "    print(\"Salário real:\" , i[5], \"Salário predito:\", predict(i))\n",
    "    aux = predict(i) - int(i[5])\n",
    "    erro += (aux) ** 2\n",
    "    \n",
    "print ( \"Erro quadratico médio: \", erro/len(test2.values))\n",
    "print ( \"Raiz do erro quadratico médio:\", math.sqrt(erro/len(test2.values)))"
   ]
  },
  {
   "cell_type": "markdown",
   "metadata": {},
   "source": [
    "### Desconsiderando o sexo no preditor"
   ]
  },
  {
   "cell_type": "code",
   "execution_count": 21,
   "metadata": {
    "ExecuteTime": {
     "end_time": "2019-06-24T21:16:48.987650Z",
     "start_time": "2019-06-24T21:16:48.980654Z"
    }
   },
   "outputs": [],
   "source": [
    "X = []\n",
    "y = []\n",
    "\n",
    "for pessoa in train2.values:\n",
    "    aux = np.transpose([traduz_rk(pessoa[1]), int(pessoa[2]), traduz_dg(pessoa[3]), int(pessoa[4])])\n",
    "    X.append(aux)\n",
    "    y.append(int(pessoa[5]))\n",
    "\n",
    "pseudo_inv = linalg.pinv(np.array(X))    \n",
    "linear_regression= pseudo_inv.dot(np.transpose(np.array([y])))"
   ]
  },
  {
   "cell_type": "code",
   "execution_count": 22,
   "metadata": {
    "ExecuteTime": {
     "end_time": "2019-06-24T21:16:49.345097Z",
     "start_time": "2019-06-24T21:16:49.341083Z"
    }
   },
   "outputs": [],
   "source": [
    "def predict(x):\n",
    "    aux = [traduz_rk(x[1]), int(x[2]), traduz_dg(x[3]), int(x[4])]\n",
    "    resp = 0\n",
    "    for i in range(4):\n",
    "        resp += aux[i] * linear_regression[i][0]\n",
    "    return resp"
   ]
  },
  {
   "cell_type": "code",
   "execution_count": 23,
   "metadata": {
    "ExecuteTime": {
     "end_time": "2019-06-24T21:16:49.770702Z",
     "start_time": "2019-06-24T21:16:49.763716Z"
    }
   },
   "outputs": [
    {
     "name": "stdout",
     "output_type": "stream",
     "text": [
      "Salário real: 24742 Salário predito: 24405.386535656275\n",
      "Salário real: 25748 Salário predito: 23057.58537112007\n",
      "Salário real: 25400 Salário predito: 17619.418041420366\n",
      "Salário real: 35350 Salário predito: 24344.947124782535\n",
      "Salário real: 28200 Salário predito: 19425.630492087486\n",
      "Salário real: 25500 Salário predito: 16581.716647411056\n",
      "Salário real: 15000 Salário predito: 13682.784458584623\n",
      "Salário real: 31850 Salário predito: 30265.083554609057\n",
      "Salário real: 20690 Salário predito: 30194.689270319108\n",
      "Salário real: 16500 Salário predito: 15301.751639511875\n",
      "Salário real: 24832 Salário predito: 20435.822714021793\n",
      "Erro quadratico médio:  41897630.09350227\n",
      "Raiz do erro quadratico médio: 6472.837870169642\n"
     ]
    }
   ],
   "source": [
    "erro = 0\n",
    "for i in test2.values:\n",
    "    print(\"Salário real:\" , i[5], \"Salário predito:\", predict(i))\n",
    "    aux = predict(i) - int(i[5])\n",
    "    erro += (aux) ** 2\n",
    "    \n",
    "print ( \"Erro quadratico médio: \", erro/len(test2.values))\n",
    "print ( \"Raiz do erro quadratico médio:\", math.sqrt(erro/len(test2.values)))"
   ]
  }
 ],
 "metadata": {
  "kernelspec": {
   "display_name": "Python 3",
   "language": "python",
   "name": "python3"
  },
  "language_info": {
   "codemirror_mode": {
    "name": "ipython",
    "version": 3
   },
   "file_extension": ".py",
   "mimetype": "text/x-python",
   "name": "python",
   "nbconvert_exporter": "python",
   "pygments_lexer": "ipython3",
   "version": "3.7.2"
  },
  "toc": {
   "base_numbering": 1,
   "nav_menu": {},
   "number_sections": true,
   "sideBar": true,
   "skip_h1_title": false,
   "title_cell": "Table of Contents",
   "title_sidebar": "Contents",
   "toc_cell": false,
   "toc_position": {},
   "toc_section_display": true,
   "toc_window_display": false
  }
 },
 "nbformat": 4,
 "nbformat_minor": 2
}
